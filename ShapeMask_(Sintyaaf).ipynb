{
  "nbformat": 4,
  "nbformat_minor": 0,
  "metadata": {
    "colab": {
      "name": "ShapeMask.(Sintyaaf).ipynb",
      "provenance": [],
      "collapsed_sections": [],
      "private_outputs": true,
      "include_colab_link": true
    },
    "kernelspec": {
      "name": "python3",
      "display_name": "Python 3"
    },
    "language_info": {
      "name": "python"
    },
    "accelerator": "TPU"
  },
  "cells": [
    {
      "cell_type": "markdown",
      "metadata": {
        "id": "view-in-github",
        "colab_type": "text"
      },
      "source": [
        "<a href=\"https://colab.research.google.com/github/sintyaaf/STUDY-INDEPENDENT/blob/main/ShapeMask_(Sintyaaf).ipynb\" target=\"_parent\"><img src=\"https://colab.research.google.com/assets/colab-badge.svg\" alt=\"Open In Colab\"/></a>"
      ]
    },
    {
      "cell_type": "markdown",
      "source": [
        "# ShapeMask Instance Segmentation Demo\n",
        "Colab ini menunjukkan cara menggunakan model ShapeMask yang dilatih di Cloud TPU untuk melakukan instance segmentation pada sebuah gambar. Output yang dihasilkan adalah bounding box object, segmentasi, dan label objeknya. Anda juga dapat bereksperimen dengan gambar Anda sendiri dengan mengedit URL dari gambar masukan.\n",
        "\n",
        "### Tentang ShapeMask\n",
        "Instance segmentation dapat mengidentifikasi dan menghighlight beberapa instance dari berbagai objek dalam suatu gambar. Misalnya, dalam foto keluarga yang berisi beberapa orang, model jenis ini akan otomatis memberi warna yang berbeda untuk setiap orang dalam gambar tersebut. Contoh model segmentasi instan tersebut adalah Mask R-CNN dan ShapeMask.\n",
        "\n",
        "Pada umumnya, model instance segmentation membuat kotak deteksi (bounding box) untuk berbagai objek pada langkah pertama dan kemudian menggunakan pixel pada box tersebut untuk mengidentifikasi batas objek yang tepat dan untuk menghighligt objek tersebut pada langkah kedua. ShapeMask menggunakan teknik unik pada langkah kedua - teknik ini tidak terlalu bergantung pada kotak deteksi awal untuk mengidentifikasi batas objek yang tepat. Sebagai gantinya, ShapeMask mempelajari bentuk berbagai objek dengan melihat nilai similarity antara piksel tetangga. Teknik ini membantu ShapeMask menghasilkan hasil yang lebih akurat."
      ],
      "metadata": {
        "id": "oVjN87hvf5Ul"
      }
    },
    {
      "cell_type": "markdown",
      "metadata": {
        "id": "DL_0tSC67biu"
      },
      "source": [
        "# Instructions\n",
        "<h3><a href=\"https://cloud.google.com/tpu/\"><img valign=\"middle\" src=\"https://raw.githubusercontent.com/GoogleCloudPlatform/tensorflow-without-a-phd/master/tensorflow-rl-pong/images/tpu-hexagon.png\" width=\"50\"></a>  &nbsp;&nbsp;Gunakan Free Cloud TPU</h3>\n",
        " \n",
        "   1. Di tab runtime, pilih **Change runtime type**. Dan pilih \"TPU\" sebagai hardware accelerator, jika akunmu sudah limit, bisa pilih CPU biasa (None) saja.\n",
        "   2. Klik tab Runtime lagi dan pilih **Runtime > Run All**. Atau bisa mengeksekusi sel secara manual satu per satu."
      ]
    },
    {
      "cell_type": "markdown",
      "metadata": {
        "id": "ODxpKwkNFrBk"
      },
      "source": [
        "## Download source code\n",
        "Dibawah ini kode untuk mendownload model ShapeMask"
      ]
    },
    {
      "cell_type": "code",
      "metadata": {
        "id": "rUaCGBUQFgiq"
      },
      "source": [
        "!git clone -b shapemask https://github.com/tensorflow/tpu/"
      ],
      "execution_count": null,
      "outputs": []
    },
    {
      "cell_type": "markdown",
      "metadata": {
        "id": "RPbB7s8hPHfO"
      },
      "source": [
        "## Import libraries"
      ]
    },
    {
      "cell_type": "markdown",
      "source": [
        "Berikut adalah beberapa library yang dibutuhkan untuk program kita kali ini."
      ],
      "metadata": {
        "id": "OpVo3_OTh2AE"
      }
    },
    {
      "cell_type": "code",
      "metadata": {
        "id": "6EtGbyNc8VgS"
      },
      "source": [
        "from IPython import display\n",
        "from PIL import Image\n",
        "import numpy as np\n",
        "import tensorflow.compat.v1 as tf\n",
        "import sys\n",
        "sys.path.insert(0, 'tpu/models/official')\n",
        "sys.path.insert(0, 'tpu/models/official/detection')\n",
        "sys.path.insert(0, 'tpu/models/official/detection/utils')\n",
        "from utils.object_detection import visualization_utils\n",
        "from evaluation import coco_utils"
      ],
      "execution_count": null,
      "outputs": []
    },
    {
      "cell_type": "markdown",
      "metadata": {
        "id": "vkTSG22ePKkz"
      },
      "source": [
        "## Muat Index Mapping (label) dari Dataset COCO\n",
        "Percobaan kali ini kita menggunakan dataset bernama COCO. Berikut adalah masing-masing nomor label dengan kategorinya. (Jalankan kodenya)"
      ]
    },
    {
      "cell_type": "code",
      "metadata": {
        "id": "_Q5r1zob93OF"
      },
      "source": [
        "ID_MAPPING = {\n",
        "    1: 'person',\n",
        "    2: 'bicycle',\n",
        "    3: 'car',\n",
        "    4: 'motorcycle',\n",
        "    5: 'airplane',\n",
        "    6: 'bus',\n",
        "    7: 'train',\n",
        "    8: 'truck',\n",
        "    9: 'boat',\n",
        "    10: 'traffic light',\n",
        "    11: 'fire hydrant',\n",
        "    13: 'stop sign',\n",
        "    14: 'parking meter',\n",
        "    15: 'bench',\n",
        "    16: 'bird',\n",
        "    17: 'cat',\n",
        "    18: 'dog',\n",
        "    19: 'horse',\n",
        "    20: 'sheep',\n",
        "    21: 'cow',\n",
        "    22: 'elephant',\n",
        "    23: 'bear',\n",
        "    24: 'zebra',\n",
        "    25: 'giraffe',\n",
        "    27: 'backpack',\n",
        "    28: 'umbrella',\n",
        "    31: 'handbag',\n",
        "    32: 'tie',\n",
        "    33: 'suitcase',\n",
        "    34: 'frisbee',\n",
        "    35: 'skis',\n",
        "    36: 'snowboard',\n",
        "    37: 'sports ball',\n",
        "    38: 'kite',\n",
        "    39: 'baseball bat',\n",
        "    40: 'baseball glove',\n",
        "    41: 'skateboard',\n",
        "    42: 'surfboard',\n",
        "    43: 'tennis racket',\n",
        "    44: 'bottle',\n",
        "    46: 'wine glass',\n",
        "    47: 'cup',\n",
        "    48: 'fork',\n",
        "    49: 'knife',\n",
        "    50: 'spoon',\n",
        "    51: 'bowl',\n",
        "    52: 'banana',\n",
        "    53: 'apple',\n",
        "    54: 'sandwich',\n",
        "    55: 'orange',\n",
        "    56: 'broccoli',\n",
        "    57: 'carrot',\n",
        "    58: 'hot dog',\n",
        "    59: 'pizza',\n",
        "    60: 'donut',\n",
        "    61: 'cake',\n",
        "    62: 'chair',\n",
        "    63: 'couch',\n",
        "    64: 'potted plant',\n",
        "    65: 'bed',\n",
        "    67: 'dining table',\n",
        "    70: 'toilet',\n",
        "    72: 'tv',\n",
        "    73: 'laptop',\n",
        "    74: 'mouse',\n",
        "    75: 'remote',\n",
        "    76: 'keyboard',\n",
        "    77: 'cell phone',\n",
        "    78: 'microwave',\n",
        "    79: 'oven',\n",
        "    80: 'toaster',\n",
        "    81: 'sink',\n",
        "    82: 'refrigerator',\n",
        "    84: 'book',\n",
        "    85: 'clock',\n",
        "    86: 'vase',\n",
        "    87: 'scissors',\n",
        "    88: 'teddy bear',\n",
        "    89: 'hair drier',\n",
        "    90: 'toothbrush',\n",
        "}\n",
        "category_index = {k: {'id': k, 'name': ID_MAPPING[k]} for k in ID_MAPPING}"
      ],
      "execution_count": null,
      "outputs": []
    },
    {
      "cell_type": "markdown",
      "metadata": {
        "id": "HngQNsyjXmvF"
      },
      "source": [
        "## Load an image\n",
        "Now, you can load an image. Use either the sample image included here, or update the field with an image of your choice."
      ]
    },
    {
      "cell_type": "code",
      "metadata": {
        "id": "2oZWLz4xXsyQ"
      },
      "source": [
        "!wget https://upload.wikimedia.org/wikipedia/commons/thumb/0/08/Kitano_Street_Kobe01s5s4110.jpg/2560px-Kitano_Street_Kobe01s5s4110.jpg -O test.jpg\n",
        "image_path = 'test.jpg'\n",
        "\n",
        "with open(image_path, 'rb') as f:\n",
        "  np_image_string = np.array([f.read()])\n",
        "  \n",
        "image = Image.open(image_path)\n",
        "width, height = image.size\n",
        "np_image = np.array(image.getdata()).reshape(height, width, 3).astype(np.uint8)\n",
        "\n",
        "display.display(display.Image(image_path, width=1024))"
      ],
      "execution_count": null,
      "outputs": []
    },
    {
      "cell_type": "markdown",
      "metadata": {
        "id": "uwrFI4C9Vvam"
      },
      "source": [
        "## Membuat Tensorflow session\n",
        "Buatlah Tensorflow session untuk melakukan inferensi."
      ]
    },
    {
      "cell_type": "code",
      "metadata": {
        "id": "X0G-tk6wakcr"
      },
      "source": [
        "use_tpu = True #@param {type:\"boolean\"}\n",
        "if use_tpu:\n",
        "  import os\n",
        "  import pprint\n",
        "\n",
        "  assert 'COLAB_TPU_ADDR' in os.environ, 'ERROR: Not connected to a TPU runtime; please see the first cell in this notebook for instructions!'\n",
        "  TPU_ADDRESS = 'grpc://' + os.environ['COLAB_TPU_ADDR']\n",
        "  print('TPU address is', TPU_ADDRESS)\n",
        "\n",
        "  session = tf.Session(TPU_ADDRESS, graph=tf.Graph())\n",
        "  print('TPU devices:')\n",
        "  pprint.pprint(session.list_devices())\n",
        "else:\n",
        "  session = tf.Session(graph=tf.Graph())\n",
        "  "
      ],
      "execution_count": null,
      "outputs": []
    },
    {
      "cell_type": "markdown",
      "metadata": {
        "id": "YtXyXw6EaKRj"
      },
      "source": [
        "# Muat pretrained model\n",
        "Memuat model pretrained COCO."
      ]
    },
    {
      "cell_type": "code",
      "metadata": {
        "id": "6lCL-ZcwaJbA"
      },
      "source": [
        "saved_model_dir = 'gs://cloud-tpu-checkpoints/shapemask/1571767330' #@param {type:\"string\"}\n",
        "_ = tf.saved_model.loader.load(session, ['serve'], saved_model_dir)"
      ],
      "execution_count": null,
      "outputs": []
    },
    {
      "cell_type": "markdown",
      "metadata": {
        "id": "cjHuO49maf6R"
      },
      "source": [
        "## Inferensi\n",
        "Mari kita coba prediksi gambar tsb.\n"
      ]
    },
    {
      "cell_type": "code",
      "metadata": {
        "id": "qENTOHzZcaWC"
      },
      "source": [
        "num_detections, detection_boxes, detection_classes, detection_scores, detection_masks, detection_outer_boxes, image_info = session.run(\n",
        "    ['NumDetections:0', 'DetectionBoxes:0', 'DetectionClasses:0', 'DetectionScores:0', 'DetectionMasks:0', 'DetectionOuterBoxes:0', 'ImageInfo:0'],\n",
        "    feed_dict={'Placeholder:0': np_image_string})\n",
        "\n",
        "num_detections = np.squeeze(num_detections.astype(np.int32), axis=(0,))\n",
        "detection_boxes = np.squeeze(detection_boxes / min(image_info[0, 2]), axis=(0,))[0:num_detections]\n",
        "detection_outer_boxes = np.squeeze(detection_outer_boxes / min(image_info[0, 2]), axis=(0,))[0:num_detections]\n",
        "detection_scores = np.squeeze(detection_scores, axis=(0,))[0:num_detections]\n",
        "detection_classes = np.squeeze(detection_classes.astype(np.int32), axis=(0,))[0:num_detections]\n",
        "instance_masks = np.squeeze(detection_masks, axis=(0,))[0:num_detections]\n",
        "# Use outer boxes \n",
        "ymin, xmin, ymax, xmax = np.split(detection_outer_boxes, 4, axis=-1)\n",
        "processed_boxes = np.concatenate([xmin, ymin, xmax - xmin, ymax - ymin], axis=-1)\n",
        "segmentations = coco_utils.generate_segmentation_from_masks(instance_masks, processed_boxes, height, width)"
      ],
      "execution_count": null,
      "outputs": []
    },
    {
      "cell_type": "markdown",
      "metadata": {
        "id": "lLJqU56RdgjV"
      },
      "source": [
        "## Visualisasi Hasil deteksi"
      ]
    },
    {
      "cell_type": "code",
      "metadata": {
        "id": "CuDqEsMzdHfF"
      },
      "source": [
        "max_boxes_to_draw =    100#@param {type:\"integer\"}\n",
        "min_score_thresh = 0.34    #@param {type:\"slider\", min:0, max:1, step:0.01}\n",
        "\n",
        "image_with_detections = visualization_utils.visualize_boxes_and_labels_on_image_array(\n",
        "    np_image * 1,\n",
        "    detection_boxes,\n",
        "    detection_classes,\n",
        "    detection_scores,\n",
        "    category_index,\n",
        "    instance_masks=segmentations,\n",
        "    use_normalized_coordinates=False,\n",
        "    max_boxes_to_draw=max_boxes_to_draw,\n",
        "    min_score_thresh=min_score_thresh)\n",
        "\n",
        "output_image_path = 'test_results.png'\n",
        "Image.fromarray(image_with_detections.astype(np.uint8)).save(output_image_path)\n",
        "display.display(display.Image(output_image_path, width=1024))"
      ],
      "execution_count": null,
      "outputs": []
    },
    {
      "cell_type": "code",
      "source": [
        ""
      ],
      "metadata": {
        "id": "lA4gQXhekXtp"
      },
      "execution_count": null,
      "outputs": []
    }
  ]
}